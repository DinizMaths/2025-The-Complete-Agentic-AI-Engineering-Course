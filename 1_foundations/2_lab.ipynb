{
 "cells": [
  {
   "cell_type": "code",
   "execution_count": 1,
   "id": "8d2c03fc",
   "metadata": {},
   "outputs": [
    {
     "data": {
      "text/plain": [
       "True"
      ]
     },
     "execution_count": 1,
     "metadata": {},
     "output_type": "execute_result"
    }
   ],
   "source": [
    "from dotenv import load_dotenv\n",
    "\n",
    "load_dotenv(override=True)"
   ]
  },
  {
   "cell_type": "code",
   "execution_count": 2,
   "id": "311542db",
   "metadata": {},
   "outputs": [],
   "source": [
    "import os\n",
    "\n",
    "from IPython.display import display, Markdown\n",
    "\n",
    "openai_api_key = os.getenv(\"OPENAI_API_KEY\")\n",
    "gemini_api_key = os.getenv(\"GEMINI_API_KEY\")"
   ]
  },
  {
   "cell_type": "code",
   "execution_count": 3,
   "id": "353c55b0",
   "metadata": {},
   "outputs": [
    {
     "data": {
      "text/plain": [
       "[{'role': 'user',\n",
       "  'content': 'Please come up with a challenging, nuanced question that I can ask a number of LLMs to evaluate their intelligence. Answer only with the question, and nothing else.'}]"
      ]
     },
     "execution_count": 3,
     "metadata": {},
     "output_type": "execute_result"
    }
   ],
   "source": [
    "request = (\n",
    "    \"Please come up with a challenging, nuanced question that I can ask a number of LLMs to evaluate their intelligence. \"\n",
    "    \"Answer only with the question, and nothing else.\"\n",
    ")\n",
    "\n",
    "messages = [{\"role\": \"user\", \"content\": request}]\n",
    "\n",
    "messages"
   ]
  },
  {
   "cell_type": "code",
   "execution_count": 4,
   "id": "6968be6d",
   "metadata": {},
   "outputs": [],
   "source": [
    "from openai import OpenAI"
   ]
  },
  {
   "cell_type": "code",
   "execution_count": 5,
   "id": "e0a0f9b2",
   "metadata": {},
   "outputs": [],
   "source": [
    "openai = OpenAI(api_key=openai_api_key)"
   ]
  },
  {
   "cell_type": "code",
   "execution_count": 6,
   "id": "23f55d76",
   "metadata": {},
   "outputs": [
    {
     "data": {
      "text/markdown": [
       "### Question\n",
       "How would you reconcile the ethical implications of artificial intelligence in decision-making processes with the need for efficiency and effectiveness in critical sectors such as healthcare, criminal justice, and finance?"
      ],
      "text/plain": [
       "<IPython.core.display.Markdown object>"
      ]
     },
     "metadata": {},
     "output_type": "display_data"
    }
   ],
   "source": [
    "response = openai.chat.completions.create(\n",
    "    model=\"gpt-4o-mini\",\n",
    "    messages=messages\n",
    ")\n",
    "\n",
    "question = response.choices[0].message.content\n",
    "\n",
    "display(Markdown(f\"### Question\\n{question}\"))"
   ]
  },
  {
   "cell_type": "code",
   "execution_count": 7,
   "id": "4ecd0b33",
   "metadata": {},
   "outputs": [
    {
     "data": {
      "text/plain": [
       "[{'role': 'user',\n",
       "  'content': 'How would you reconcile the ethical implications of artificial intelligence in decision-making processes with the need for efficiency and effectiveness in critical sectors such as healthcare, criminal justice, and finance?'}]"
      ]
     },
     "execution_count": 7,
     "metadata": {},
     "output_type": "execute_result"
    }
   ],
   "source": [
    "competitors = []\n",
    "answers = []\n",
    "\n",
    "messages = [{\"role\": \"user\", \"content\": question}]\n",
    "\n",
    "messages"
   ]
  },
  {
   "cell_type": "code",
   "execution_count": 8,
   "id": "877ad71c",
   "metadata": {},
   "outputs": [
    {
     "data": {
      "text/markdown": [
       "### Answer\n",
       "Reconciling the ethical implications of artificial intelligence (AI) in decision-making processes with the needs for efficiency and effectiveness in critical sectors requires a multifaceted approach that balances innovation with responsibility. Here are several strategies to achieve this balance:\n",
       "\n",
       "1. **Establish Ethical Guidelines and Frameworks**:\n",
       "   - Develop and implement clear ethical guidelines that govern the use of AI in decision-making. These guidelines should address issues such as bias, transparency, accountability, and privacy. Engaging stakeholders from diverse fields—including ethicists, technologists, domain experts, and affected communities—can ensure that multiple perspectives are considered.\n",
       "\n",
       "2. **Ensure Transparency**:\n",
       "   - AI systems should operate transparently to allow for scrutiny and understanding of their decision-making processes. Techniques such as explainable AI (XAI) can help demystify AI outcomes, enabling users to understand how decisions are made and ensuring that those impacted can contest or seek redress.\n",
       "\n",
       "3. **Bias Mitigation and Fairness**:\n",
       "   - Actively work to identify, mitigate, and monitor biases in AI algorithms, especially in sectors like healthcare and criminal justice where biased outcomes can have profound socio-economic impacts. This can include using diverse datasets to train AI systems and regularly auditing AI outputs for fairness and equity.\n",
       "\n",
       "4. **Human Oversight and Accountability**:\n",
       "   - Establish mechanisms for human oversight in AI decision-making processes. Human judgment should complement AI recommendations, particularly in high-stakes environments like healthcare and criminal justice. This ensures that ethical considerations are factored into decisions when necessary.\n",
       "\n",
       "5. **Stakeholder Engagement**:\n",
       "   - Bring together various stakeholders—including patients, legal experts, financial analysts, and affected communities—to gather input on AI systems' design, deployment, and outcomes. This engagement can foster trust and ensure that systems reflect societal values.\n",
       "\n",
       "6. **Continuous Evaluation and Feedback Loops**:\n",
       "   - Implement systems for ongoing evaluation of AI applications to assess their effectiveness, ethical implications, and societal impact over time. Feedback loops can help organizations adapt and improve AI systems as more data and insights become available.\n",
       "\n",
       "7. **Regulatory Compliance and Innovation**:\n",
       "   - Align AI developments with existing regulatory frameworks while advocating for the creation of new regulations that specifically address the unique challenges posed by AI. This ensures that the deployment of AI aligns with legal and ethical standards without stifling innovation.\n",
       "\n",
       "8. **Education and Training**:\n",
       "   - Invest in training for AI developers, decision-makers, and end-users on the ethical implications of AI technologies. A well-informed workforce is crucial for fostering a culture of responsibility and ethical consideration in AI deployment.\n",
       "\n",
       "9. **Public Awareness and Discourse**:\n",
       "   - Promote public discourse around the implications of AI in decision-making. Providing a platform for discussions on ethics, accountability, and the consequences of AI can help to build societal consensus on acceptable practices.\n",
       "\n",
       "10. **Focus on Inclusive Design**:\n",
       "   - Ensure that AI systems are designed inclusively, taking into account the needs and perspectives of all segments of society, particularly marginalized communities. This can enhance the relevance and fairness of AI applications while mitigating potential harm.\n",
       "\n",
       "By integrating these strategies, we can work towards a landscape in which AI enhances efficiency and effectiveness in sectors like healthcare, criminal justice, and finance while maintaining ethical integrity and safeguarding human rights. This balance is essential for cultivating trust and ensuring that AI serves the broader interests of society."
      ],
      "text/plain": [
       "<IPython.core.display.Markdown object>"
      ]
     },
     "metadata": {},
     "output_type": "display_data"
    }
   ],
   "source": [
    "model_name = \"gpt-4o-mini\"\n",
    "\n",
    "response = openai.chat.completions.create(\n",
    "    model=model_name,\n",
    "    messages=messages\n",
    ")\n",
    "\n",
    "answer = response.choices[0].message.content\n",
    "\n",
    "display(Markdown(f\"### Answer\\n{answer}\"))\n",
    "\n",
    "competitors.append(model_name)\n",
    "answers.append(answer)"
   ]
  },
  {
   "cell_type": "code",
   "execution_count": 9,
   "id": "b5c8273b",
   "metadata": {},
   "outputs": [],
   "source": [
    "gemini = OpenAI(\n",
    "    api_key=gemini_api_key,\n",
    "    base_url=\"https://generativelanguage.googleapis.com/v1beta/openai/\"\n",
    ")"
   ]
  },
  {
   "cell_type": "code",
   "execution_count": 10,
   "id": "92f4d3e6",
   "metadata": {},
   "outputs": [
    {
     "data": {
      "text/markdown": [
       "### Answer\n",
       "Reconciling the ethical implications of AI in decision-making with the need for efficiency and effectiveness in critical sectors is a complex challenge that requires a multi-faceted approach. Here's a breakdown of the key considerations and strategies:\n",
       "\n",
       "**1. Defining Ethical Principles and Values:**\n",
       "\n",
       "*   **Transparency and Explainability:** AI decisions should be explainable and understandable.  \"Black box\" algorithms erode trust and hinder accountability. We need methods to audit AI models and understand their reasoning.\n",
       "*   **Fairness and Non-discrimination:**  AI systems must be rigorously tested and monitored for bias.  Data used to train AI should be diverse and representative to avoid perpetuating and amplifying existing inequalities.\n",
       "*   **Accountability and Responsibility:**  Clear lines of responsibility must be established for AI decisions.  Who is accountable when an AI makes an error or causes harm?  This includes developers, deployers, and those who use the AI's output.\n",
       "*   **Privacy and Data Security:**  AI systems often rely on sensitive data.  Robust privacy protections are essential to prevent misuse and ensure compliance with regulations like GDPR.\n",
       "*   **Human Oversight and Control:** AI should augment human decision-making, not replace it entirely, especially in critical sectors. Humans should retain the ability to override AI recommendations when necessary.\n",
       "*   **Beneficence and Non-maleficence:** AI systems should be designed to maximize benefits and minimize harm.  A careful risk-benefit analysis is crucial before deploying AI in high-stakes situations.\n",
       "\n",
       "**2. Strategies for Implementation:**\n",
       "\n",
       "*   **Algorithmic Auditing and Validation:**\n",
       "    *   Regularly audit AI models for bias and performance across different demographic groups.\n",
       "    *   Use adversarial testing to identify vulnerabilities and weaknesses in the AI system.\n",
       "    *   Implement rigorous validation procedures to ensure the AI system meets pre-defined performance standards.\n",
       "*   **Developing Explainable AI (XAI) Techniques:**\n",
       "    *   Employ XAI methods to provide insights into the decision-making process of AI models.\n",
       "    *   Techniques like SHAP (SHapley Additive exPlanations), LIME (Local Interpretable Model-agnostic Explanations), and attention mechanisms can help explain why an AI system made a particular decision.\n",
       "*   **Data Governance and Bias Mitigation:**\n",
       "    *   Establish clear data governance policies to ensure data quality, integrity, and representativeness.\n",
       "    *   Implement bias mitigation techniques during data collection, pre-processing, and model training.  This could involve techniques like re-weighting data, using counterfactual fairness methods, or employing regularizers to penalize biased predictions.\n",
       "*   **Human-Centered Design:**\n",
       "    *   Involve stakeholders (patients, doctors, judges, defendants, etc.) in the design and development of AI systems.\n",
       "    *   Design user interfaces that clearly communicate the AI's recommendations and provide context for its decisions.\n",
       "    *   Provide training and education to users on how to effectively use and interpret AI-generated information.\n",
       "*   **Regulatory Frameworks and Standards:**\n",
       "    *   Develop clear ethical guidelines and regulations for the development and deployment of AI in critical sectors.\n",
       "    *   Establish independent oversight bodies to monitor AI systems and ensure compliance with ethical principles.\n",
       "    *   Promote the development of industry standards for AI safety, fairness, and transparency.\n",
       "*   **Continuous Monitoring and Evaluation:**\n",
       "    *   Continuously monitor the performance of AI systems in real-world settings.\n",
       "    *   Collect feedback from users and stakeholders to identify potential problems and areas for improvement.\n",
       "    *   Regularly re-evaluate the ethical implications of AI systems and adapt policies and procedures as needed.\n",
       "*   **Education and Awareness:**\n",
       "    *   Educate the public about the capabilities and limitations of AI.\n",
       "    *   Raise awareness of the ethical implications of AI and promote responsible AI development and deployment.\n",
       "    *   Train professionals in relevant fields (e.g., healthcare, law, finance) on how to use AI ethically and effectively.\n",
       "\n",
       "**3. Sector-Specific Considerations:**\n",
       "\n",
       "*   **Healthcare:**  Focus on patient safety, data privacy, and algorithmic bias in diagnosis and treatment recommendations.  Human doctors must retain ultimate responsibility for patient care.\n",
       "*   **Criminal Justice:**  Address concerns about racial bias in predictive policing and sentencing algorithms.  Ensure due process and fairness in the use of AI in law enforcement.  Transparency in algorithms used for risk assessment is paramount.\n",
       "*   **Finance:**  Combat algorithmic bias in lending and credit scoring.  Protect consumers from unfair or discriminatory financial practices.  Focus on data security and preventing financial fraud.\n",
       "\n",
       "**4. Balancing Efficiency and Ethics:**\n",
       "\n",
       "*   **Accept Trade-offs:** Sometimes, achieving perfect ethical alignment might require sacrificing some level of efficiency. Decision-makers must be prepared to prioritize ethical considerations when necessary.\n",
       "*   **Focus on High-Impact Areas:**  Start by addressing the most pressing ethical concerns and gradually expand the scope of ethical oversight.\n",
       "*   **Incorporate Ethics Early in the Development Process:**  Embedding ethical considerations from the initial design stages is far more effective (and often more efficient) than attempting to retrofit them later.\n",
       "*   **Use AI to Improve Ethical Oversight:** AI can also be used to detect bias, monitor data quality, and assist in ethical auditing.\n",
       "\n",
       "**Conclusion:**\n",
       "\n",
       "Reconciling efficiency and ethics in AI decision-making is an ongoing process that requires continuous dialogue, collaboration, and adaptation.  By prioritizing ethical principles, implementing robust governance mechanisms, and fostering a culture of responsible AI development, we can harness the power of AI to improve outcomes in critical sectors while safeguarding fundamental human rights and values. There isn't a single, perfect solution, but rather a commitment to continuous improvement and refinement.\n"
      ],
      "text/plain": [
       "<IPython.core.display.Markdown object>"
      ]
     },
     "metadata": {},
     "output_type": "display_data"
    }
   ],
   "source": [
    "model_name = \"gemini-2.0-flash\"\n",
    "\n",
    "response = gemini.chat.completions.create(\n",
    "    model=model_name,\n",
    "    messages=messages\n",
    ")\n",
    "\n",
    "answer = response.choices[0].message.content\n",
    "\n",
    "display(Markdown(f\"### Answer\\n{answer}\"))\n",
    "\n",
    "competitors.append(model_name)\n",
    "answers.append(answer)"
   ]
  },
  {
   "cell_type": "code",
   "execution_count": 12,
   "id": "7151fe2d",
   "metadata": {},
   "outputs": [],
   "source": [
    "together = \"\"\n",
    "\n",
    "for index, answer in enumerate(answers):\n",
    "    together += f\"### Answer from competitor {index + 1}\"\n",
    "    together += f\"\\n{answer}\\n\\n\""
   ]
  },
  {
   "cell_type": "code",
   "execution_count": 13,
   "id": "71f45d6c",
   "metadata": {},
   "outputs": [],
   "source": [
    "judge = f\"\"\"\n",
    "You are judging a competition between {len(competitors)} competitors. Each competitor has been given this question:\n",
    "\n",
    "{question}\n",
    "\n",
    "Your job is to evaluate each response for clarity and strength of argument, and rank them in order of the best to worst.\n",
    "Respond with JSON, and only JSON, with the following structure:\n",
    "\n",
    "{{\"results\": [\"best competitor number\", \"second best competitor number\", ...]}}\n",
    "\n",
    "Here are the responses from each competitor:\n",
    "\n",
    "{together}\n",
    "\n",
    "Now respond with the JSON with the ranked order of the competitors, nothing else. No not include markdown formatting or code blocks.\n",
    "\"\"\""
   ]
  },
  {
   "cell_type": "code",
   "execution_count": 14,
   "id": "d7713e6f",
   "metadata": {},
   "outputs": [],
   "source": [
    "judge_messages = [{\n",
    "    \"role\": \"user\",\n",
    "    \"content\": judge\n",
    "}]"
   ]
  },
  {
   "cell_type": "code",
   "execution_count": 15,
   "id": "c41b6ada",
   "metadata": {},
   "outputs": [
    {
     "name": "stdout",
     "output_type": "stream",
     "text": [
      "{\"results\": [\"2\", \"1\"]}\n"
     ]
    }
   ],
   "source": [
    "response = openai.chat.completions.create(\n",
    "    model=\"o3-mini\",\n",
    "    messages=judge_messages\n",
    ")\n",
    "\n",
    "results = response.choices[0].message.content\n",
    "\n",
    "print(results)"
   ]
  },
  {
   "cell_type": "code",
   "execution_count": 17,
   "id": "48ed00e6",
   "metadata": {},
   "outputs": [
    {
     "name": "stdout",
     "output_type": "stream",
     "text": [
      "Rank 1: gemini-2.0-flash\n",
      "Rank 2: gpt-4o-mini\n"
     ]
    }
   ],
   "source": [
    "import json\n",
    "\n",
    "results_dict = json.loads(results)\n",
    "ranks = results_dict.get(\"results\", [])\n",
    "\n",
    "for index, result in enumerate(ranks):\n",
    "    competitor_index = int(result) - 1\n",
    "    competitor_name = competitors[competitor_index]\n",
    "    print(f\"Rank {index + 1}: {competitor_name}\")"
   ]
  },
  {
   "cell_type": "code",
   "execution_count": null,
   "id": "7ac8a97b",
   "metadata": {},
   "outputs": [],
   "source": []
  }
 ],
 "metadata": {
  "kernelspec": {
   "display_name": "venv (3.12.10)",
   "language": "python",
   "name": "python3"
  },
  "language_info": {
   "codemirror_mode": {
    "name": "ipython",
    "version": 3
   },
   "file_extension": ".py",
   "mimetype": "text/x-python",
   "name": "python",
   "nbconvert_exporter": "python",
   "pygments_lexer": "ipython3",
   "version": "3.12.10"
  }
 },
 "nbformat": 4,
 "nbformat_minor": 5
}
