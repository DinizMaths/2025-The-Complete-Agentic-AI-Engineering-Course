{
 "cells": [
  {
   "cell_type": "code",
   "execution_count": 1,
   "id": "0db61cf1",
   "metadata": {},
   "outputs": [
    {
     "data": {
      "text/plain": [
       "True"
      ]
     },
     "execution_count": 1,
     "metadata": {},
     "output_type": "execute_result"
    }
   ],
   "source": [
    "from dotenv import load_dotenv\n",
    "\n",
    "load_dotenv(override=True)"
   ]
  },
  {
   "cell_type": "code",
   "execution_count": 2,
   "id": "08495ae6",
   "metadata": {},
   "outputs": [],
   "source": [
    "import os\n",
    "\n",
    "openai_api_key = os.getenv(\"OPENAI_API_KEY\")"
   ]
  },
  {
   "cell_type": "code",
   "execution_count": 4,
   "id": "f4f2b9ca",
   "metadata": {},
   "outputs": [],
   "source": [
    "from openai import OpenAI"
   ]
  },
  {
   "cell_type": "code",
   "execution_count": 5,
   "id": "b63e3676",
   "metadata": {},
   "outputs": [],
   "source": [
    "openai = OpenAI(api_key=openai_api_key)"
   ]
  },
  {
   "cell_type": "code",
   "execution_count": 6,
   "id": "c77a5031",
   "metadata": {},
   "outputs": [],
   "source": [
    "messages = [{\"role\": \"user\", \"content\": \"What is 2+2?\"}]"
   ]
  },
  {
   "cell_type": "code",
   "execution_count": 7,
   "id": "2353e6fa",
   "metadata": {},
   "outputs": [
    {
     "name": "stdout",
     "output_type": "stream",
     "text": [
      "2 + 2 equals 4.\n"
     ]
    }
   ],
   "source": [
    "response = openai.chat.completions.create(\n",
    "    model=\"gpt-4o-mini\",\n",
    "    messages=messages\n",
    ")\n",
    "\n",
    "print(response.choices[0].message.content)"
   ]
  },
  {
   "cell_type": "code",
   "execution_count": 8,
   "id": "38802010",
   "metadata": {},
   "outputs": [],
   "source": [
    "question = \"Please propose a hard, challenging question to assess someone's IQ. Respond only with the question.\"\n",
    "messages = [{\"role\": \"user\", \"content\": question}]"
   ]
  },
  {
   "cell_type": "code",
   "execution_count": 9,
   "id": "e8e468da",
   "metadata": {},
   "outputs": [
    {
     "name": "stdout",
     "output_type": "stream",
     "text": [
      "A train leaves a station traveling at 60 miles per hour, while another train leaves the same station traveling in the opposite direction at 90 miles per hour. If the trains are 300 miles apart after a certain time, how long did it take for them to reach that distance apart?\n"
     ]
    }
   ],
   "source": [
    "response = openai.chat.completions.create(\n",
    "    model=\"gpt-4o-mini\",\n",
    "    messages=messages\n",
    ")\n",
    "\n",
    "question = response.choices[0].message.content\n",
    "\n",
    "print(question)"
   ]
  },
  {
   "cell_type": "code",
   "execution_count": 11,
   "id": "0f1820fd",
   "metadata": {},
   "outputs": [
    {
     "name": "stdout",
     "output_type": "stream",
     "text": [
      "To determine how long it took for the two trains to be 300 miles apart, we first need to consider their combined speeds since they are moving in opposite directions.\n",
      "\n",
      "1. **Combined speed of the trains:**\n",
      "   - The first train travels at 60 miles per hour.\n",
      "   - The second train travels at 90 miles per hour.\n",
      "   - The combined speed is:\n",
      "     \\[\n",
      "     60 \\text{ mph} + 90 \\text{ mph} = 150 \\text{ mph}\n",
      "     \\]\n",
      "\n",
      "2. **Distance apart:**\n",
      "   - We want to find out how long it takes for them to reach a distance of 300 miles apart.\n",
      "\n",
      "3. **Using the formula for distance:**\n",
      "   - Distance = Speed × Time\n",
      "   - We can rearrange this formula to solve for time:\n",
      "     \\[\n",
      "     \\text{Time} = \\frac{\\text{Distance}}{\\text{Speed}}\n",
      "     \\]\n",
      "\n",
      "4. **Substituting the values:**\n",
      "   - Distance = 300 miles\n",
      "   - Speed = 150 mph\n",
      "   \\[\n",
      "   \\text{Time} = \\frac{300 \\text{ miles}}{150 \\text{ mph}} = 2 \\text{ hours}\n",
      "   \\]\n",
      "\n",
      "Thus, it took **2 hours** for the trains to be 300 miles apart.\n"
     ]
    }
   ],
   "source": [
    "messages = [{\"role\": \"user\", \"content\": question}]\n",
    "\n",
    "response = openai.chat.completions.create(\n",
    "    model=\"gpt-4o-mini\",\n",
    "    messages=messages\n",
    ")\n",
    "\n",
    "answer = response.choices[0].message.content\n",
    "\n",
    "print(answer)"
   ]
  },
  {
   "cell_type": "code",
   "execution_count": 12,
   "id": "0470a32a",
   "metadata": {},
   "outputs": [
    {
     "data": {
      "text/markdown": [
       "### Question\n",
       "A train leaves a station traveling at 60 miles per hour, while another train leaves the same station traveling in the opposite direction at 90 miles per hour. If the trains are 300 miles apart after a certain time, how long did it take for them to reach that distance apart?\n",
       "\n",
       "### Answer\n",
       "To determine how long it took for the two trains to be 300 miles apart, we first need to consider their combined speeds since they are moving in opposite directions.\n",
       "\n",
       "1. **Combined speed of the trains:**\n",
       "   - The first train travels at 60 miles per hour.\n",
       "   - The second train travels at 90 miles per hour.\n",
       "   - The combined speed is:\n",
       "     \\[\n",
       "     60 \\text{ mph} + 90 \\text{ mph} = 150 \\text{ mph}\n",
       "     \\]\n",
       "\n",
       "2. **Distance apart:**\n",
       "   - We want to find out how long it takes for them to reach a distance of 300 miles apart.\n",
       "\n",
       "3. **Using the formula for distance:**\n",
       "   - Distance = Speed × Time\n",
       "   - We can rearrange this formula to solve for time:\n",
       "     \\[\n",
       "     \\text{Time} = \\frac{\\text{Distance}}{\\text{Speed}}\n",
       "     \\]\n",
       "\n",
       "4. **Substituting the values:**\n",
       "   - Distance = 300 miles\n",
       "   - Speed = 150 mph\n",
       "   \\[\n",
       "   \\text{Time} = \\frac{300 \\text{ miles}}{150 \\text{ mph}} = 2 \\text{ hours}\n",
       "   \\]\n",
       "\n",
       "Thus, it took **2 hours** for the trains to be 300 miles apart."
      ],
      "text/plain": [
       "<IPython.core.display.Markdown object>"
      ]
     },
     "metadata": {},
     "output_type": "display_data"
    }
   ],
   "source": [
    "from IPython.display import display, Markdown\n",
    "\n",
    "display(Markdown(f\"### Question\\n{question}\\n\\n### Answer\\n{answer}\"))"
   ]
  },
  {
   "cell_type": "code",
   "execution_count": null,
   "id": "1cb71f84",
   "metadata": {},
   "outputs": [],
   "source": []
  }
 ],
 "metadata": {
  "kernelspec": {
   "display_name": "venv (3.12.10)",
   "language": "python",
   "name": "python3"
  },
  "language_info": {
   "codemirror_mode": {
    "name": "ipython",
    "version": 3
   },
   "file_extension": ".py",
   "mimetype": "text/x-python",
   "name": "python",
   "nbconvert_exporter": "python",
   "pygments_lexer": "ipython3",
   "version": "3.12.10"
  }
 },
 "nbformat": 4,
 "nbformat_minor": 5
}
